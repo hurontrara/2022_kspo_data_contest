{
 "cells": [
  {
   "cell_type": "code",
   "execution_count": 1,
   "id": "45381748",
   "metadata": {},
   "outputs": [],
   "source": [
    "import pandas as pd\n",
    "import os\n",
    "\n",
    "MCLP_path = './make_files/MCLP'  # MCLP 자료\n",
    "p_median_path = './make_files/p_median'  # P-median 자료\n",
    "output_path = './make_files/sum'        # 두 값의\n",
    "if not os.path.exists(output_path):\n",
    "    os.makedirs(output_path)\n",
    "else:\n",
    "    pass"
   ]
  },
  {
   "cell_type": "code",
   "execution_count": 11,
   "id": "7e613fa4",
   "metadata": {},
   "outputs": [],
   "source": [
    "from sklearn.preprocessing import StandardScaler\n",
    "scaler = StandardScaler()                                                            # 각 격자의 상대적인 우위 수준을, Standard Scaling을 통해 나타냄\n",
    "\n",
    "cnt = 1\n",
    "for i, j in zip(os.listdir(MCLP_path),  os.listdir(p_median_path)):\n",
    "    mclp_data = pd.read_excel(os.path.join(MCLP_path,i), index_col=0)                         # MCLP data\n",
    "    p_median_data = pd.read_excel(os.path.join(p_median_path, j), index_col=0)               # P-median data\n",
    "\n",
    "    rank_1 = scaler.fit_transform(mclp_data[['cover']]).squeeze()                           # MLCP는 cover 열이 클수록 우위  \n",
    "    rank_2 = scaler.fit_transform(p_median_data[['cost']]).squeeze() * (-1)                  # P-median은 cost 열이 작을수록 우위 -> (-1) 을 곱하여 구함\n",
    "    local_data = pd.DataFrame({'MCLP' : rank_1, 'P-median' : rank_2, 'SUM' : rank_1 + rank_2})\n",
    "\n",
    "    local_data.to_excel(os.path.join(output_path, 'sum_data_{}.xlsx'.format(str(cnt))), encoding='utf-8')        # 엑셀로 3개 행정동에 대하여 저장\n",
    "    cnt += 1"
   ]
  },
  {
   "cell_type": "code",
   "execution_count": 28,
   "id": "2b020dff",
   "metadata": {},
   "outputs": [],
   "source": [
    "# import matplotlib.font_manager as fm\n",
    "\n",
    "# # 설치된 폰트 출력\n",
    "# plt.rcParams['font.family'] = 'Malgun Gothic'\n"
   ]
  },
  {
   "cell_type": "code",
   "execution_count": null,
   "id": "9eab5697",
   "metadata": {},
   "outputs": [],
   "source": [
    "import pandas as pd\n",
    "import os\n",
    "data_path = './make_files/sum'\n",
    "\n",
    "mclp_data = pd.read_excel(os.path.join(data_path, 'sum_data_1.xlsx'), index_col=0)"
   ]
  },
  {
   "cell_type": "code",
   "execution_count": 10,
   "id": "3b00ad37",
   "metadata": {},
   "outputs": [
    {
     "name": "stderr",
     "output_type": "stream",
     "text": [
      "C:\\ProgramData\\Anaconda3\\lib\\site-packages\\seaborn\\distributions.py:2557: FutureWarning: `distplot` is a deprecated function and will be removed in a future version. Please adapt your code to use either `displot` (a figure-level function with similar flexibility) or `histplot` (an axes-level function for histograms).\n",
      "  warnings.warn(msg, FutureWarning)\n",
      "C:\\ProgramData\\Anaconda3\\lib\\site-packages\\matplotlib\\backends\\backend_agg.py:238: RuntimeWarning: Glyph 8722 missing from current font.\n",
      "  font.set_text(s, 0.0, flags=flags)\n",
      "C:\\ProgramData\\Anaconda3\\lib\\site-packages\\matplotlib\\backends\\backend_agg.py:201: RuntimeWarning: Glyph 8722 missing from current font.\n",
      "  font.set_text(s, 0, flags=flags)\n",
      "No handles with labels found to put in legend.\n"
     ]
    },
    {
     "data": {
      "image/png": "[encoded data removed]",
      "text/plain": [
       "<Figure size 432x288 with 1 Axes>"
      ]
     },
     "metadata": {
      "needs_background": "light"
     },
     "output_type": "display_data"
    }
   ],
   "source": [
    "import seaborn as sns\n",
    "import matplotlib.pyplot as plt\n",
    "fig = plt.figure()\n",
    "ax = fig.add_subplot(111)\n",
    "\n",
    "# ax.tick_params(axis='x', colors='white')\n",
    "# ax.tick_params(axis='y', colors='white')\n",
    "# ax.xaxis.label.set_color('white')\n",
    "# ax.yaxis.label.set_color('white')\n",
    "\n",
    "plt.title(\"상일동 - SUM\", color='black') \n",
    "plt.rc(\"font\", family='Malgun Gothic')\n",
    "sns.distplot(mclp_data['SUM'], color='red')\n",
    "plt.savefig('./MCLP.png')\n",
    "plt.legend()\n",
    "plt.show()\n"
   ]
  },
  {
   "cell_type": "code",
   "execution_count": 3,
   "id": "4dc150a4",
   "metadata": {},
   "outputs": [
    {
     "data": {
      "text/html": [
       "<div>\n",
       "<style scoped>\n",
       "    .dataframe tbody tr th:only-of-type {\n",
       "        vertical-align: middle;\n",
       "    }\n",
       "\n",
       "    .dataframe tbody tr th {\n",
       "        vertical-align: top;\n",
       "    }\n",
       "\n",
       "    .dataframe thead th {\n",
       "        text-align: right;\n",
       "    }\n",
       "</style>\n",
       "<table border=\"1\" class=\"dataframe\">\n",
       "  <thead>\n",
       "    <tr style=\"text-align: right;\">\n",
       "      <th></th>\n",
       "      <th>MCLP</th>\n",
       "      <th>P-median</th>\n",
       "      <th>SUM</th>\n",
       "    </tr>\n",
       "  </thead>\n",
       "  <tbody>\n",
       "    <tr>\n",
       "      <th>0</th>\n",
       "      <td>-0.487072</td>\n",
       "      <td>-1.375976</td>\n",
       "      <td>-1.863048</td>\n",
       "    </tr>\n",
       "    <tr>\n",
       "      <th>1</th>\n",
       "      <td>-0.986807</td>\n",
       "      <td>-1.499716</td>\n",
       "      <td>-2.486523</td>\n",
       "    </tr>\n",
       "    <tr>\n",
       "      <th>2</th>\n",
       "      <td>-1.278112</td>\n",
       "      <td>0.073490</td>\n",
       "      <td>-1.204622</td>\n",
       "    </tr>\n",
       "    <tr>\n",
       "      <th>3</th>\n",
       "      <td>0.380787</td>\n",
       "      <td>-0.800104</td>\n",
       "      <td>-0.419317</td>\n",
       "    </tr>\n",
       "    <tr>\n",
       "      <th>4</th>\n",
       "      <td>-0.446322</td>\n",
       "      <td>-0.212004</td>\n",
       "      <td>-0.658327</td>\n",
       "    </tr>\n",
       "    <tr>\n",
       "      <th>...</th>\n",
       "      <td>...</td>\n",
       "      <td>...</td>\n",
       "      <td>...</td>\n",
       "    </tr>\n",
       "    <tr>\n",
       "      <th>89</th>\n",
       "      <td>0.759649</td>\n",
       "      <td>-0.295562</td>\n",
       "      <td>0.464087</td>\n",
       "    </tr>\n",
       "    <tr>\n",
       "      <th>90</th>\n",
       "      <td>-1.654771</td>\n",
       "      <td>0.408417</td>\n",
       "      <td>-1.246354</td>\n",
       "    </tr>\n",
       "    <tr>\n",
       "      <th>91</th>\n",
       "      <td>0.459533</td>\n",
       "      <td>0.113170</td>\n",
       "      <td>0.572702</td>\n",
       "    </tr>\n",
       "    <tr>\n",
       "      <th>92</th>\n",
       "      <td>-0.239545</td>\n",
       "      <td>1.358164</td>\n",
       "      <td>1.118618</td>\n",
       "    </tr>\n",
       "    <tr>\n",
       "      <th>93</th>\n",
       "      <td>-1.502235</td>\n",
       "      <td>1.075612</td>\n",
       "      <td>-0.426623</td>\n",
       "    </tr>\n",
       "  </tbody>\n",
       "</table>\n",
       "<p>94 rows × 3 columns</p>\n",
       "</div>"
      ],
      "text/plain": [
       "        MCLP  P-median       SUM\n",
       "0  -0.487072 -1.375976 -1.863048\n",
       "1  -0.986807 -1.499716 -2.486523\n",
       "2  -1.278112  0.073490 -1.204622\n",
       "3   0.380787 -0.800104 -0.419317\n",
       "4  -0.446322 -0.212004 -0.658327\n",
       "..       ...       ...       ...\n",
       "89  0.759649 -0.295562  0.464087\n",
       "90 -1.654771  0.408417 -1.246354\n",
       "91  0.459533  0.113170  0.572702\n",
       "92 -0.239545  1.358164  1.118618\n",
       "93 -1.502235  1.075612 -0.426623\n",
       "\n",
       "[94 rows x 3 columns]"
      ]
     },
     "execution_count": 3,
     "metadata": {},
     "output_type": "execute_result"
    }
   ],
   "source": [
    "mclp_data"
   ]
  },
  {
   "cell_type": "code",
   "execution_count": null,
   "id": "33ee047a",
   "metadata": {},
   "outputs": [],
   "source": []
  }
 ],
 "metadata": {
  "kernelspec": {
   "display_name": "Python 3",
   "language": "python",
   "name": "python3"
  },
  "language_info": {
   "codemirror_mode": {
    "name": "ipython",
    "version": 3
   },
   "file_extension": ".py",
   "mimetype": "text/x-python",
   "name": "python",
   "nbconvert_exporter": "python",
   "pygments_lexer": "ipython3",
   "version": "3.8.8"
  }
 },
 "nbformat": 4,
 "nbformat_minor": 5
}
